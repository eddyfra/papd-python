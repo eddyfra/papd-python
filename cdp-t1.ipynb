{
 "cells": [
  {
   "cell_type": "markdown",
   "id": "45a13f59",
   "metadata": {},
   "source": [
    "## ¿Qué es Git?"
   ]
  },
  {
   "cell_type": "markdown",
   "id": "c1d69c61",
   "metadata": {},
   "source": [
    "Antes de conocer que es Git y para qué sirve, debemos de tener saber el concepto de un Sistema de Control de Versiones.\n",
    "\n",
    "Primero, Control de Versiones es gestionar los cambios que se realizan sobre los elementos de algún producto o sobre alguna configuración. Entonces, un Sistema de Configuración de Versiones es la herramienta que nos permite gestionar todos esos cambios del Control de Versiones sobre el código y hacen más eficiente la gestión de las distintas versiones del producto que se está desarrollando.\n",
    "\n",
    "Es como cuando estamos elaborando un documento tan extenso que requerimos ir creando respaldos de este archivo por cada avance importante que realizamos. Por ejemplo, al realizar una tesis, lo vamos nombrando algo como _“tesis_v1.doc”, “tesis_v2.doc”, “tesis_v3.doc”, “tesis_revision1.doc”, “tesis_revision2.doc”, “tesis_final.doc”, “tesis_final_entregada.doc”_,esta es una forma de control de versiones, sin embargo, es tedioso, confuso, ineficiente y propenso a errores. Y es por eso que los Sistemas de Control de Versiones nos ayudan a optimizar la gestión del Control de versiones de nuestros productos (conjunto de ficheros).\n",
    "\n",
    "En 2005, Linus Torvalds (el creador de GNU/Linux) creo un Software de Control de Versiones gratis y de código abierto, al cual le llamó Git. Inicialmente esta herramienta fue hecha para que grupos de desarrolladores pudieran trabajar de forma eficiente sobre el núcleo de Linux. Pero su característica de poder rastrear contenido y almacenarlo lo popularizó rápidamente dentro del mundo de los desarrolladores de software, ya que permitía les almacenar su código, al mismo tiempo de tener control de las versiones y trabajo colaborativo entre varias personas.\n",
    "Git es un software de Control de Versiones, utilizado para registrar las distintas versiones de los archivos para que cada versión pueda ser recuperable en cualquier momento. Facilita el registro y comparación de cada versión, mostrando detalles de que fue lo que cambio en cada versión y quien realizó los cambios. \n",
    "\n",
    "Los proyectos de desarrollo de software pueden tener múltiples personas trabajando en paralelo sobre el mismo producto, en donde los requerimientos cambian constantemente y muchas veces es necesario regresar en el tiempo a una versión anterior del código. Y un sistema de control de versiones como Git es necesario para asegurar que no existan conflictos de código entre ellos. \n",
    "\n",
    "Git utiliza 3 tipos de estado en sus archivos para administrar los archivos: __*estado modificado, estado preparado y estado confirmado.*__\n",
    "+ __Estado Modificado:__ son archivos que hemos modificado, pero no se le ha dado la instrucción explicita a Git que controle.\n",
    "+ __Estado Preparado:__ son los archivos modificados y que explícitamente se ha autorizado a Git que controle la versión del archivo. Estos archivos están preparados, para que Git versione durante la próxima sincronización al repositorio Git.\n",
    "+ __Estado Confirmado:__  son archivos que se guardaron en el repositorio Git exitosamente.\n",
    "\n",
    "Algo importante a saber también son las ubicaciones de los archivos, que también son 3: __*directorio de trabajo, sector de preparación, y el directorio Git.*__\n",
    "+ **Directorio de Trabajo:** es una carpeta local, y es en donde residen los ficheros con estado modificado.\n",
    "+ **Zona de Preparación:** es un archivo que guarda la información sobre los archivos próximos a ser acometidos en el directorio Git.\n",
    "+ **Directorio Git:** es un directorio que Git crea dentro del directorio de trabajo y que se le ha instruido para realizar un seguimiento de versiones, esta carpeta también guarda metadatos de archivos y bases de datos de objetos. A esta carpeta comúnmente se le llama Repositorio.\n",
    "\n",
    "Git se instala localmente en el equipo donde se trabajarán los archivos a versionar, y se le dan instrucciones por medio de líneas de comando a través de una Shell en sistema Linux o DOS en Windows.\n",
    "\n",
    "Finalmente, el uso inicial de Git fue en el escenario de desarrollo de software, pero debido a su característica que permite rastrear y almacenar contenido, actualmente se utiliza en cualquier ámbito que necesite almacenar contenido y tener un control de versiones de múltiples. \n"
   ]
  },
  {
   "cell_type": "markdown",
   "id": "702e64dc",
   "metadata": {},
   "source": [
    "---"
   ]
  },
  {
   "cell_type": "markdown",
   "id": "c813e059",
   "metadata": {},
   "source": [
    "## ¿Qué es GitHub?"
   ]
  },
  {
   "cell_type": "markdown",
   "id": "f2cd8765",
   "metadata": {},
   "source": [
    "GitHub es una plataforma web que permite a los usuario alojar sus repositorios Git, lo que facilita compartir y colaborar en proyectos de cualquier otro usuario en cualquier momento. Fue creado para fomentar una participación más amplia en proyectos de código abierto ya que proporciona una forma fácil y segura de editar archivos en repositorios de otros usuarios.\n",
    "\n",
    "Como podemos ver, el motor de GitHub sigue siendo Git. Y GitHub se podría ver como un complemento que extiende las funcionalidades de Git para trabajar y compartir los proyectos en la nube, extendiendo así su funcionalidad y fomentando su uso sin la limitante de Localia, siempre de una forma fácil y segura ya que sigue siendo Git solo que con repositorios en la nube.\n"
   ]
  },
  {
   "cell_type": "markdown",
   "id": "66e49872",
   "metadata": {},
   "source": [
    "---"
   ]
  },
  {
   "cell_type": "markdown",
   "id": "3962f6b2",
   "metadata": {},
   "source": [
    "## ¿Qué es Markdown?"
   ]
  },
  {
   "cell_type": "markdown",
   "id": "473a079b",
   "metadata": {},
   "source": [
    "Markdown es un lenguaje marcado que facilita la aplicación de formato a un texto empleando caracteres de una forma especial. Inicialmente fue pensado para la elaboración y formateo de textos de una forma más rápida y sencilla, que tenían como destino la web, esto como alternativa al empleo de etiquetas HTML pero de una forma mucho más fácil, sencilla, con mejor legibilidad, y con menos caracteres que el HTML, aunque después el programa lo convierta a HTML para renderizarlo como corresponde.\n",
    "\n",
    "Fue creado como alternativa al HTML mas simple, para que las personas sin mucho conocimiento en lenguajes de programación pudieran ser capaces de crear páginas Web, y cualquier tipo de contenido con destino a ser publicado en la Web. La sintaxis es mucho más simple ya que se basa en algunos caracteres al inicio del texto que se dé sea formatear, en lugar de las etiquetas de HTML con sus respectivas etiquetas de cierre. Lo que hace más fluido el crear el contenido y su formato, a la vez que también lo hace más legible para su mantenimiento. Así entonces, cuando el programa interprete las marcas de Markdown dentro del documento, lo convertirá a su código HTML correspondiente.\n",
    "\n",
    "Debido a esta sintaxis simple y a la sencillez en su aprendizaje, con el tiempo se convirtió en un sistema de escritura minimalista que cada vez podía ser exportado a más sitios fácilmente ya que éstos fueron adoptando esta sintaxis incluyendo en sus editores la interpretación de Markdown.\n",
    "\n",
    "Algunas de las etiquetas disponibles en Markdown son:\n",
    "\n",
    "#### Encabezados:\n",
    "\n",
    "    # esto es un h1\n",
    "    \n",
    "    ## esto es un h2\n",
    "    \n",
    "    …..\n",
    "    \n",
    "    ###### esto es un h6\n",
    "    \n",
    "\n",
    "_Produce la siguiente salida_\n",
    ">   # esto es un h1\n",
    ">   ## esto es un h2\n",
    ">   …..\n",
    ">   ###### esto es un h6\n",
    "\n",
    "#### Para usar negrillas y cursivas podemos utilizar:\n",
    "\n",
    "    **esto es una negrilla**\n",
    "    __esto también es una negrilla__\n",
    "    *esto es una cursiva*\n",
    "    _esto también es cursiva_\n",
    "    __*y esto es una cursiva en negrilla*__\n",
    "\n",
    "_Produce la siguiente salida_\n",
    "\n",
    ">   **esto es una negrilla**\n",
    ">   \n",
    ">   __esto también es una negrilla__\n",
    ">   \n",
    "   *esto es una cursiva*\n",
    ">   \n",
    "   _esto también es cursiva_\n",
    ">   \n",
    "   __*y esto es una cursiva en negrilla*__\n",
    "\n",
    "\n",
    "#### Crear listas en Markdwon es tan simple como:**\n",
    "\n",
    "    1.\tEste es el primer elemento de una lista ordenada\n",
    "    2.\tSolo hace falta poner el numero un punto y un espacio y listo!\n",
    "    •\tEsto es una lista sin orden, usando * y espacio\n",
    "    + esto también es una lista sin orden, usando + y espacio\n",
    "\n",
    "_Produce la siguiente salida_\n",
    "\n",
    ">   1.\tEste es el primer elemento de una lista ordenada\n",
    ">   \n",
    ">   2.\tSolo hace falta poner el numero un punto y un espacio y listo!\n",
    ">   \n",
    ">   • Esto es una lista sin orden, usando * y espacio\n",
    ">   \n",
    ">   + esto también es una lista sin orden, usando + y espacio\n"
   ]
  },
  {
   "cell_type": "markdown",
   "id": "f23ee19a",
   "metadata": {},
   "source": [
    "---"
   ]
  },
  {
   "cell_type": "code",
   "execution_count": null,
   "id": "f88b112f",
   "metadata": {},
   "outputs": [],
   "source": []
  }
 ],
 "metadata": {
  "kernelspec": {
   "display_name": "Python 3 (ipykernel)",
   "language": "python",
   "name": "python3"
  },
  "language_info": {
   "codemirror_mode": {
    "name": "ipython",
    "version": 3
   },
   "file_extension": ".py",
   "mimetype": "text/x-python",
   "name": "python",
   "nbconvert_exporter": "python",
   "pygments_lexer": "ipython3",
   "version": "3.9.13"
  }
 },
 "nbformat": 4,
 "nbformat_minor": 5
}
